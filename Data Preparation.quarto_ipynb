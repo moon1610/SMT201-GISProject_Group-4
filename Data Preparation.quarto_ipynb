{
  "cells": [
    {
      "cell_type": "markdown",
      "metadata": {},
      "source": [
        "---\n",
        "title: \"Data Preparation\"\n",
        "format: html\n",
        "---\n",
        "\n",
        "\n",
        "\n",
        "\n",
        "## 1. Chloropleth Maps\n",
        "\n",
        "### 1.1 No. of EV Charging Points\n",
        "\n",
        "1\\. Load MP19SZ \n",
        "\n",
        "2\\. Click on “Processing” → “Toolbox” → Select “Join Attributes by Location (Summary)” → Set  “Join to features in” as “MP19SZ” → Set “By comparing to” as “EV_Points” → Select “Intersect, Contain, Are Within” for the features → Select “Count” for summaries to calculate→ Run \n",
        "\n",
        "3\\. Right Click on this new joined layer → “Export” → “save Features As” → Save it as a GeoPackage named GP and save the layer as “EV_Points_Choropleth” \n",
        "\n",
        "4\\. Right click on this layer → Select “Properties” → Click on “Symbology” → Choose Graduated style → Set Value as “No. of Charging Outlets Count” → Select Natural Breaks (Jenks) for classification → Click Classify → Apply\n",
        "\n",
        "### 1.2 Areas lacking EV Charging Points\n",
        "\n",
        "### 1. Load MP19 \n",
        "\n",
        "2\\. Right click on MP19 → “Open Attribute Table” → “Select by Expression” → Write this in the expression:  \"Description\" LIKE '%COMMERCIAL%' OR \"Description\" LIKE '%RESIDENTIAL%' → “Select Features” \n",
        "\n",
        "3\\. Right click on MP19 → “Export” → “Save Selected Features As” → Save it as a Geopackage named GP and save layer as “Suitable_Land_Use” \n",
        "\n",
        "4\\. Right click on “Suitable_Land_Use” → “Open Attribute Table” → “Field Calculator” → Set the output field name as “Land_Type” and let the output field type be “Text (String)” → Set the expression as: regexp_replace(regexp_replace(\"Description\", '.\\*\\<th\\>LU_DESC\\</th\\> \\<td\\>', ''), '\\</td\\>.\\*', '') → Apply \n",
        "\n",
        "5\\. Right click on “Suitable_Land_Use” → “Toggle Editing” → Save \n",
        "\n",
        "6\\. Right click on “Suitable_Land_Use” → “Properties” → “Symbology” → Change symbology to “Categorized” → Select “Land_Type” as value field → Click “Classify” → Click “Ok” \n",
        "\n",
        "7\\. Load the “EV_Points” layer and find suitable land types that are lacking EV charging points.\n",
        "\n",
        "## 2. Data Graphs\n",
        "\n",
        "### 2.1 Data Preparation\n",
        "\n",
        "1.  Open the EV Charging Stations dataset downloaded from LTADataMall.\n",
        "\n",
        "2.  Run the following code to condense the number of EV charging stations found in one location:\\\n"
      ],
      "id": "745c3bba"
    },
    {
      "cell_type": "code",
      "metadata": {
        "md-indent": "    "
      },
      "source": [
        "# install pandas if not installed yet.\n",
        "import pandas as pd\n",
        "\n",
        "df = pd.read_excel(\"[file destination]/Electric_Vehicle_Charging_Points_Feb 2025.xlsx\")\n",
        "\n",
        "grouped = df.groupby(['Longitude', 'Latitude'], as_index=False).first()\n",
        "counts = df.groupby(['Longitude', 'Latitude']).size().reset_index(name='Charger Count')\n",
        "\n",
        "result_df = pd.merge(grouped, counts, on=['Longitude', 'Latitude'])\n",
        "\n",
        "result_df.to_csv(\"[file destination]/ev_chargers_count.csv\", index=False)\n",
        "\n",
        "print(result_df)"
      ],
      "id": "ba322b3d",
      "execution_count": null,
      "outputs": []
    },
    {
      "cell_type": "markdown",
      "metadata": {},
      "source": [
        "The output would be a CSV file, which you can now run as a delimited text layer on QGIS for further analysis. Open QGIS to proceed.\n",
        "\n",
        "3.  Create a new project. Click on Layer \\> Add Layer \\> Add Delimited Text Layer.\n",
        "4.  Input the newly created ev_chargers_count.csv under file name, and name the layer as ev_chargers_count.\n",
        "5.  Under Geometry Definition, ensure that the X and Y coordinates are Longitude and Latitude respectively, and the geometry CRS is set to SVY21.\n",
        "\n",
        "### 2.2 Analyzing charger types\n",
        "\n",
        "Understanding the current distribution of charger types allows us to understand the prevalence of EVs, and the amount of energy required to power these EV stations. We will be using the DataPlotly plugin to derive this graph.\n",
        "\n",
        "1.  Open the DataPlotly plugin.\n",
        "2.  Set plot type to Histogram\n",
        "3.  Set X field to **Type of Connector**\n",
        "4.  Click on Create Plot. The following should be the resulting graph:\\\n",
        "    ![](images/clipboard-340631990.png)"
      ],
      "id": "8d997bb2"
    }
  ],
  "metadata": {
    "kernelspec": {
      "name": "python3",
      "language": "python",
      "display_name": "Python 3 (ipykernel)",
      "path": "C:\\Users\\moonj\\AppData\\Roaming\\Python\\share\\jupyter\\kernels\\python3"
    }
  },
  "nbformat": 4,
  "nbformat_minor": 5
}